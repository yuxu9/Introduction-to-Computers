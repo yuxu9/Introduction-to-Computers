{
  "nbformat": 4,
  "nbformat_minor": 0,
  "metadata": {
    "colab": {
      "provenance": [],
      "authorship_tag": "ABX9TyMhW9DGraw3XCFWcCgHA6RD",
      "include_colab_link": true
    },
    "kernelspec": {
      "name": "python3",
      "display_name": "Python 3"
    },
    "language_info": {
      "name": "python"
    }
  },
  "cells": [
    {
      "cell_type": "markdown",
      "metadata": {
        "id": "view-in-github",
        "colab_type": "text"
      },
      "source": [
        "<a href=\"https://colab.research.google.com/github/yuxu9/Introduction-to-Computers/blob/main/0501.ipynb\" target=\"_parent\"><img src=\"https://colab.research.google.com/assets/colab-badge.svg\" alt=\"Open In Colab\"/></a>"
      ]
    },
    {
      "cell_type": "code",
      "execution_count": null,
      "metadata": {
        "colab": {
          "base_uri": "https://localhost:8080/"
        },
        "id": "YYJKaN9ekMEm",
        "outputId": "3198efe4-e923-4c7b-95a2-cf841cf1b88d"
      },
      "outputs": [
        {
          "output_type": "stream",
          "name": "stdout",
          "text": [
            "請輸入分數80\n",
            "及格\n"
          ]
        }
      ],
      "source": [
        "score = int(input(\"請輸入分數\"))\n",
        "if (score>=60):\n",
        "  print(\"及格\")"
      ]
    },
    {
      "cell_type": "code",
      "source": [
        "數學=60\n",
        "英文=70\n",
        "if 數學>英文:\n",
        "  print(\"數學比較高\")\n",
        "else:\n",
        "  print(\"英文比較高\")"
      ],
      "metadata": {
        "colab": {
          "base_uri": "https://localhost:8080/"
        },
        "id": "Zf8ae2znkyD8",
        "outputId": "f3744414-3779-4183-ec94-0a431ca73217"
      },
      "execution_count": null,
      "outputs": [
        {
          "output_type": "stream",
          "name": "stdout",
          "text": [
            "英文比較高\n"
          ]
        }
      ]
    },
    {
      "cell_type": "code",
      "source": [
        "密碼 = int(input(\"請輸入密碼\"))\n",
        "if (密碼==1234):\n",
        "  print(\"歡迎光臨!\")"
      ],
      "metadata": {
        "id": "VeZ-i41glXv0",
        "colab": {
          "base_uri": "https://localhost:8080/"
        },
        "outputId": "fc5ebdf4-ccf1-464d-82d2-0677687581a0"
      },
      "execution_count": 4,
      "outputs": [
        {
          "output_type": "stream",
          "name": "stdout",
          "text": [
            "請輸入密碼1234\n",
            "歡迎光臨!\n"
          ]
        }
      ]
    },
    {
      "cell_type": "code",
      "source": [
        "rain = input(\"今天會下雨嗎?\")\n",
        "if (rain==\"Y\" or rain==\"y\"):\n",
        "  print(\"出門記得帶傘!\")"
      ],
      "metadata": {
        "colab": {
          "base_uri": "https://localhost:8080/"
        },
        "id": "kIDaZyPdONxq",
        "outputId": "268c1f1d-e0e9-4739-ca3d-2d9496aee6f5"
      },
      "execution_count": 6,
      "outputs": [
        {
          "output_type": "stream",
          "name": "stdout",
          "text": [
            "今天會下雨嗎?Y\n",
            "出門記得帶傘!\n"
          ]
        }
      ]
    },
    {
      "cell_type": "code",
      "source": [
        "密碼 = int(input(\"請輸入密碼\"))\n",
        "if (密碼==1234):\n",
        "  print(\"歡迎光臨!\")\n",
        "else:\n",
        "  print(\"密碼錯誤!\")"
      ],
      "metadata": {
        "colab": {
          "base_uri": "https://localhost:8080/"
        },
        "id": "7bDKPOX0PM50",
        "outputId": "17f4c63f-2aa5-4583-8179-3a12ecc3b2f0"
      },
      "execution_count": 10,
      "outputs": [
        {
          "output_type": "stream",
          "name": "stdout",
          "text": [
            "請輸入密碼1111\n",
            "密碼錯誤!\n"
          ]
        }
      ]
    },
    {
      "cell_type": "code",
      "source": [
        "rain = input(\"今天會下雨嗎?\")\n",
        "if (rain==\"Y\" or rain==\"y\"):\n",
        "  print(\"出門記得帶傘!\")\n",
        "else:\n",
        "  print(\"不用帶傘\")"
      ],
      "metadata": {
        "colab": {
          "base_uri": "https://localhost:8080/"
        },
        "id": "Vl5LWxdwP5VK",
        "outputId": "fec5d7c5-2148-4eca-cc13-f8bfa785f832"
      },
      "execution_count": 11,
      "outputs": [
        {
          "output_type": "stream",
          "name": "stdout",
          "text": [
            "今天會下雨嗎?n\n",
            "不用帶傘\n"
          ]
        }
      ]
    },
    {
      "cell_type": "code",
      "source": [
        "數字 = int(input(\"請輸入正整數:\"))\n",
        "if ( 數字 %2==0):\n",
        "  print(數字, \"是偶數\")\n",
        "else:\n",
        "  print(數字, \"是奇數\")"
      ],
      "metadata": {
        "colab": {
          "base_uri": "https://localhost:8080/"
        },
        "id": "kjTjNjjVQe_x",
        "outputId": "bbc55418-53f4-442d-e7af-423c87e615c5"
      },
      "execution_count": 15,
      "outputs": [
        {
          "output_type": "stream",
          "name": "stdout",
          "text": [
            "請輸入正整數:51\n",
            "51 是奇數\n"
          ]
        }
      ]
    }
  ]
}