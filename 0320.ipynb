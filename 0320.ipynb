{
  "nbformat": 4,
  "nbformat_minor": 0,
  "metadata": {
    "colab": {
      "provenance": [],
      "authorship_tag": "ABX9TyOcXEgE64bikNBSYUsmPfI6",
      "include_colab_link": true
    },
    "kernelspec": {
      "name": "python3",
      "display_name": "Python 3"
    },
    "language_info": {
      "name": "python"
    }
  },
  "cells": [
    {
      "cell_type": "markdown",
      "metadata": {
        "id": "view-in-github",
        "colab_type": "text"
      },
      "source": [
        "<a href=\"https://colab.research.google.com/github/yuxu9/Introduction-to-Computers/blob/main/0320.ipynb\" target=\"_parent\"><img src=\"https://colab.research.google.com/assets/colab-badge.svg\" alt=\"Open In Colab\"/></a>"
      ]
    },
    {
      "cell_type": "code",
      "source": [
        "test1 = int(input(\"請輸入國文成績\"))\n",
        "test2 = int(input(\"請輸入英文成績\"))\n",
        "test3 = int(input(\"請輸入數學成績\"))\n",
        "total = test1 + test2 + test3\n",
        "print('你的成績總分為:%3d' % total)"
      ],
      "metadata": {
        "colab": {
          "base_uri": "https://localhost:8080/"
        },
        "id": "FXe2yXVoUMcD",
        "outputId": "dd51e542-240d-423b-c513-965b13c6df78"
      },
      "execution_count": 6,
      "outputs": [
        {
          "output_type": "stream",
          "name": "stdout",
          "text": [
            "請輸入國文成績90\n",
            "請輸入英文成績90\n",
            "請輸入數學成績90\n",
            "您的總分為:270\n"
          ]
        }
      ]
    },
    {
      "cell_type": "code",
      "source": [
        "上底 = int(input(\"請輸入梯形上底長度:\"))\n",
        "下底 = int(input(\"請輸入梯形下底長度:\"))\n",
        "高 = int(input(\"請輸入梯形的高度:\"))\n",
        "面積 = (上底 +下底) * 高 / 2\n",
        "print('梯形面積為: %2.1f' % 面積)"
      ],
      "metadata": {
        "colab": {
          "base_uri": "https://localhost:8080/"
        },
        "id": "bbyPdzxgUbc9",
        "outputId": "935dacfd-41ac-41a8-b963-5b9b04bd988d"
      },
      "execution_count": 34,
      "outputs": [
        {
          "output_type": "stream",
          "name": "stdout",
          "text": [
            "請輸入梯形上底長度:3\n",
            "請輸入梯形下底長度:4\n",
            "請輸入梯形的高度:3\n",
            "梯形面積為: 10.5\n"
          ]
        }
      ]
    },
    {
      "cell_type": "code",
      "source": [
        "身高 = int(input(\"請輸入你的身高(cm):\"))\n",
        "體重 = int(input(\"請輸入你的體重(kg):\"))\n",
        "BMI = 體重 / (身高 / 100)**2\n",
        "print('BMI為: %3.2f' % BMI)"
      ],
      "metadata": {
        "colab": {
          "base_uri": "https://localhost:8080/"
        },
        "id": "nyknY03cXqA2",
        "outputId": "7e73e0c3-b0c1-4e16-d23a-ced1521923a3"
      },
      "execution_count": 33,
      "outputs": [
        {
          "output_type": "stream",
          "name": "stdout",
          "text": [
            "請輸入你的身高(cm):180\n",
            "請輸入你的體重(kg):80\n",
            "BMI為: 24.69\n"
          ]
        }
      ]
    }
  ]
}