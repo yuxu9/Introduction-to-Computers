{
  "nbformat": 4,
  "nbformat_minor": 0,
  "metadata": {
    "colab": {
      "provenance": [],
      "authorship_tag": "ABX9TyOzP669Py2Qo6yD6CjXpMLo",
      "include_colab_link": true
    },
    "kernelspec": {
      "name": "python3",
      "display_name": "Python 3"
    },
    "language_info": {
      "name": "python"
    }
  },
  "cells": [
    {
      "cell_type": "markdown",
      "metadata": {
        "id": "view-in-github",
        "colab_type": "text"
      },
      "source": [
        "<a href=\"https://colab.research.google.com/github/yuxu9/Introduction-to-Computers/blob/main/0320.ipynb\" target=\"_parent\"><img src=\"https://colab.research.google.com/assets/colab-badge.svg\" alt=\"Open In Colab\"/></a>"
      ]
    },
    {
      "cell_type": "code",
      "source": [
        "test1 = int(input(\"請輸入國文成績\"))\n",
        "test2 = int(input(\"請輸入英文成績\"))\n",
        "test3 = int(input(\"請輸入數學成績\"))\n",
        "total = test1 + test2 + test3\n",
        "print('你的成績總分為:%3d' % total)"
      ],
      "metadata": {
        "colab": {
          "base_uri": "https://localhost:8080/"
        },
        "id": "-pnhv0IEA1f_",
        "outputId": "b5907950-5183-4c2c-95d1-8fca63b927d5"
      },
      "execution_count": 13,
      "outputs": [
        {
          "output_type": "stream",
          "name": "stdout",
          "text": [
            "請輸入國文成績90\n",
            "請輸入英文成績90\n",
            "請輸入數學成績90\n",
            "你的成績總分為:270\n"
          ]
        }
      ]
    },
    {
      "cell_type": "code",
      "execution_count": 12,
      "metadata": {
        "colab": {
          "base_uri": "https://localhost:8080/"
        },
        "id": "DQyfX24c8xWt",
        "outputId": "80ffa203-e442-4c23-bac2-dd16f8eefeca"
      },
      "outputs": [
        {
          "output_type": "stream",
          "name": "stdout",
          "text": [
            "請輸入梯形上底長度:3\n",
            "請輸入梯形下底長度:4\n",
            "請輸入梯形的高度:3\n",
            "上底長度為:3 下底長度為:4 高度為:3 梯形面積為: 10.5\n"
          ]
        }
      ],
      "source": [
        "上底 = int(input(\"請輸入梯形上底長度:\"))\n",
        "下底 = int(input(\"請輸入梯形下底長度:\"))\n",
        "高 = int(input(\"請輸入梯形的高度:\"))\n",
        "面積 = (上底 +下底) * 高 / 2\n",
        "print(f\"上底長度為:{上底} 下底長度為:{下底} 高度為:{高} 梯形面積為:\" ,面積)"
      ]
    },
    {
      "cell_type": "code",
      "source": [
        "身高 = int(input(\"請輸入你的身高(cm):\"))\n",
        "體重 = int(input(\"請輸入你的體重(kg):\"))\n",
        "BMI = 體重 / (身高 / 100)**2\n",
        "print(f\"身高:{身高}公分 ,體重:{體重}公斤 ,BMI值為: %3.2f\" % BMI)"
      ],
      "metadata": {
        "colab": {
          "base_uri": "https://localhost:8080/"
        },
        "id": "UKegYfiAA66x",
        "outputId": "3bc4db1c-36c0-4555-fa81-56963bfeff70"
      },
      "execution_count": 28,
      "outputs": [
        {
          "output_type": "stream",
          "name": "stdout",
          "text": [
            "請輸入你的身高(cm):180\n",
            "請輸入你的體重(kg):80\n",
            "身高:180公分 ,體重:80公斤 ,BMI值為: 24.69\n"
          ]
        }
      ]
    }
  ]
}