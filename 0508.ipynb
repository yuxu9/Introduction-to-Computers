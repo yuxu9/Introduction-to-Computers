{
  "nbformat": 4,
  "nbformat_minor": 0,
  "metadata": {
    "colab": {
      "provenance": [],
      "authorship_tag": "ABX9TyO3op+LDA0tCsjvV+gSwppj",
      "include_colab_link": true
    },
    "kernelspec": {
      "name": "python3",
      "display_name": "Python 3"
    },
    "language_info": {
      "name": "python"
    }
  },
  "cells": [
    {
      "cell_type": "markdown",
      "metadata": {
        "id": "view-in-github",
        "colab_type": "text"
      },
      "source": [
        "<a href=\"https://colab.research.google.com/github/yuxu9/Introduction-to-Computers/blob/main/0508.ipynb\" target=\"_parent\"><img src=\"https://colab.research.google.com/assets/colab-badge.svg\" alt=\"Open In Colab\"/></a>"
      ]
    },
    {
      "cell_type": "code",
      "execution_count": 7,
      "metadata": {
        "colab": {
          "base_uri": "https://localhost:8080/"
        },
        "id": "Jh4eYXp8M4Zk",
        "outputId": "feed6d2a-b892-45ba-8d5c-207da29e4267"
      },
      "outputs": [
        {
          "output_type": "stream",
          "name": "stdout",
          "text": [
            "33\n",
            "體溫異常，請重新量測!\n"
          ]
        }
      ],
      "source": [
        "t = float(input())\n",
        "if(t >= 37.5):\n",
        "  print(\"體溫過高!\")\n",
        "elif(37.4 >= t >= 37):\n",
        "  print(\"體溫略高!\")\n",
        "elif(34 <= t <= 36.9):\n",
        "  print(\"體溫正常!\")\n",
        "else:\n",
        "  print(\"體溫異常，請重新量測!\")"
      ]
    },
    {
      "cell_type": "code",
      "source": [
        "g = int(input())\n",
        "if(g >= 90):\n",
        "  print(\"A\")\n",
        "elif(80 <= g <= 89):\n",
        "  print(\"B\")\n",
        "elif(70 <= g <= 79):\n",
        "  print(\"C\")\n",
        "elif(60 <= g <= 69):\n",
        "  print(\"D\")\n",
        "else:\n",
        "  print(\"E\")"
      ],
      "metadata": {
        "colab": {
          "base_uri": "https://localhost:8080/"
        },
        "id": "nQyweZoyQUeW",
        "outputId": "7456bff3-86d5-40a4-e53c-5532050a715f"
      },
      "execution_count": 16,
      "outputs": [
        {
          "output_type": "stream",
          "name": "stdout",
          "text": [
            "85\n",
            "B\n"
          ]
        }
      ]
    },
    {
      "cell_type": "code",
      "source": [
        "month = int(input())\n",
        "if(month >= 1 and month <= 12):\n",
        "  if(month==3 or month==4 or month==5):\n",
        "    print('{} 月是春天!'.format(month))\n",
        "  elif(month==6 or month==7 or month==8):\n",
        "    print('{} 月是夏天!'.format(month))\n",
        "  elif(month==9 or month==10 or month==11):\n",
        "    print('{} 月是秋天!'.format(month))\n",
        "  else:\n",
        "    print('{} 月是冬天!'.format(month))\n",
        "else:\n",
        "  print(\"月份不在範圍內!\")"
      ],
      "metadata": {
        "colab": {
          "base_uri": "https://localhost:8080/"
        },
        "id": "jICLGIfmR2Gd",
        "outputId": "8d856dd8-f896-452a-a1d8-0d13cbb4be74"
      },
      "execution_count": 23,
      "outputs": [
        {
          "output_type": "stream",
          "name": "stdout",
          "text": [
            "8\n",
            "8 月是夏天!\n"
          ]
        }
      ]
    }
  ]
}